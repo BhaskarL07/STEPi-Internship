{
 "cells": [
  {
   "cell_type": "markdown",
   "id": "8f8eb3ad",
   "metadata": {},
   "source": [
    "## Machine Learning Internship in collaboration with Start Tech Academy"
   ]
  },
  {
   "cell_type": "markdown",
   "id": "9d6440c8",
   "metadata": {},
   "source": [
    "#### TASK 1: Build a Linear Regression Model to calculate the expected CTC of an employee using Python"
   ]
  },
  {
   "cell_type": "markdown",
   "id": "6beec8d5",
   "metadata": {},
   "source": [
    "###### Step 1: Importing necessary libraries"
   ]
  },
  {
   "cell_type": "code",
   "execution_count": 2,
   "id": "67a598ee",
   "metadata": {},
   "outputs": [],
   "source": [
    "import numpy as np\n",
    "import pandas as pd\n",
    "import matplotlib.pyplot as plt\n",
    "import seaborn as sns\n",
    "from sklearn.model_selection import train_test_split\n",
    "from sklearn import metrics\n",
    "from sklearn.linear_model import LinearRegression\n",
    "from sklearn.metrics import mean_squared_error"
   ]
  },
  {
   "cell_type": "markdown",
   "id": "bc1ee744",
   "metadata": {},
   "source": [
    "###### Step 2: Importing the dataset"
   ]
  },
  {
   "cell_type": "code",
   "execution_count": 3,
   "id": "f7556257",
   "metadata": {},
   "outputs": [],
   "source": [
    "dataset=pd.read_csv(\"Data_file.xlsx - Data - Copy feature naming.csv\")"
   ]
  },
  {
   "cell_type": "markdown",
   "id": "73f55114",
   "metadata": {},
   "source": [
    "###### Step 3: Analysing and understanding the dataset"
   ]
  },
  {
   "cell_type": "code",
   "execution_count": 4,
   "id": "3f2fa178",
   "metadata": {},
   "outputs": [
    {
     "name": "stdout",
     "output_type": "stream",
     "text": [
      "<class 'pandas.core.frame.DataFrame'>\n",
      "RangeIndex: 1338 entries, 0 to 1337\n",
      "Data columns (total 9 columns):\n",
      " #   Column                Non-Null Count  Dtype \n",
      "---  ------                --------------  ----- \n",
      " 0   S.No.                 1338 non-null   int64 \n",
      " 1   College               1338 non-null   object\n",
      " 2   Role                  1338 non-null   object\n",
      " 3   City type             1338 non-null   object\n",
      " 4   Previous CTC          1338 non-null   object\n",
      " 5   Previous job changes  1338 non-null   int64 \n",
      " 6   Graduation marks      1338 non-null   int64 \n",
      " 7   Exp (Months)          1338 non-null   int64 \n",
      " 8   CTC                   1338 non-null   object\n",
      "dtypes: int64(4), object(5)\n",
      "memory usage: 94.2+ KB\n"
     ]
    }
   ],
   "source": [
    "dataset.info()"
   ]
  },
  {
   "cell_type": "markdown",
   "id": "3dbfb42f",
   "metadata": {},
   "source": [
    "NOTE: dtypes: int64(4), object(5)"
   ]
  },
  {
   "cell_type": "code",
   "execution_count": 5,
   "id": "2d3f87ba",
   "metadata": {},
   "outputs": [
    {
     "data": {
      "text/html": [
       "<div>\n",
       "<style scoped>\n",
       "    .dataframe tbody tr th:only-of-type {\n",
       "        vertical-align: middle;\n",
       "    }\n",
       "\n",
       "    .dataframe tbody tr th {\n",
       "        vertical-align: top;\n",
       "    }\n",
       "\n",
       "    .dataframe thead th {\n",
       "        text-align: right;\n",
       "    }\n",
       "</style>\n",
       "<table border=\"1\" class=\"dataframe\">\n",
       "  <thead>\n",
       "    <tr style=\"text-align: right;\">\n",
       "      <th></th>\n",
       "      <th>S.No.</th>\n",
       "      <th>Previous job changes</th>\n",
       "      <th>Graduation marks</th>\n",
       "      <th>Exp (Months)</th>\n",
       "    </tr>\n",
       "  </thead>\n",
       "  <tbody>\n",
       "    <tr>\n",
       "      <th>count</th>\n",
       "      <td>1338.000000</td>\n",
       "      <td>1338.000000</td>\n",
       "      <td>1338.000000</td>\n",
       "      <td>1338.000000</td>\n",
       "    </tr>\n",
       "    <tr>\n",
       "      <th>mean</th>\n",
       "      <td>669.500000</td>\n",
       "      <td>2.525411</td>\n",
       "      <td>59.890882</td>\n",
       "      <td>39.207025</td>\n",
       "    </tr>\n",
       "    <tr>\n",
       "      <th>std</th>\n",
       "      <td>386.391641</td>\n",
       "      <td>1.123502</td>\n",
       "      <td>14.894696</td>\n",
       "      <td>14.049960</td>\n",
       "    </tr>\n",
       "    <tr>\n",
       "      <th>min</th>\n",
       "      <td>1.000000</td>\n",
       "      <td>1.000000</td>\n",
       "      <td>35.000000</td>\n",
       "      <td>18.000000</td>\n",
       "    </tr>\n",
       "    <tr>\n",
       "      <th>25%</th>\n",
       "      <td>335.250000</td>\n",
       "      <td>2.000000</td>\n",
       "      <td>47.000000</td>\n",
       "      <td>27.000000</td>\n",
       "    </tr>\n",
       "    <tr>\n",
       "      <th>50%</th>\n",
       "      <td>669.500000</td>\n",
       "      <td>3.000000</td>\n",
       "      <td>60.000000</td>\n",
       "      <td>39.000000</td>\n",
       "    </tr>\n",
       "    <tr>\n",
       "      <th>75%</th>\n",
       "      <td>1003.750000</td>\n",
       "      <td>4.000000</td>\n",
       "      <td>73.000000</td>\n",
       "      <td>51.000000</td>\n",
       "    </tr>\n",
       "    <tr>\n",
       "      <th>max</th>\n",
       "      <td>1338.000000</td>\n",
       "      <td>4.000000</td>\n",
       "      <td>85.000000</td>\n",
       "      <td>64.000000</td>\n",
       "    </tr>\n",
       "  </tbody>\n",
       "</table>\n",
       "</div>"
      ],
      "text/plain": [
       "             S.No.  Previous job changes  Graduation marks  Exp (Months)\n",
       "count  1338.000000           1338.000000       1338.000000   1338.000000\n",
       "mean    669.500000              2.525411         59.890882     39.207025\n",
       "std     386.391641              1.123502         14.894696     14.049960\n",
       "min       1.000000              1.000000         35.000000     18.000000\n",
       "25%     335.250000              2.000000         47.000000     27.000000\n",
       "50%     669.500000              3.000000         60.000000     39.000000\n",
       "75%    1003.750000              4.000000         73.000000     51.000000\n",
       "max    1338.000000              4.000000         85.000000     64.000000"
      ]
     },
     "execution_count": 5,
     "metadata": {},
     "output_type": "execute_result"
    }
   ],
   "source": [
    "dataset.describe()"
   ]
  },
  {
   "cell_type": "code",
   "execution_count": 6,
   "id": "069bc78d",
   "metadata": {},
   "outputs": [
    {
     "data": {
      "text/html": [
       "<div>\n",
       "<style scoped>\n",
       "    .dataframe tbody tr th:only-of-type {\n",
       "        vertical-align: middle;\n",
       "    }\n",
       "\n",
       "    .dataframe tbody tr th {\n",
       "        vertical-align: top;\n",
       "    }\n",
       "\n",
       "    .dataframe thead th {\n",
       "        text-align: right;\n",
       "    }\n",
       "</style>\n",
       "<table border=\"1\" class=\"dataframe\">\n",
       "  <thead>\n",
       "    <tr style=\"text-align: right;\">\n",
       "      <th></th>\n",
       "      <th>S.No.</th>\n",
       "      <th>College</th>\n",
       "      <th>Role</th>\n",
       "      <th>City type</th>\n",
       "      <th>Previous CTC</th>\n",
       "      <th>Previous job changes</th>\n",
       "      <th>Graduation marks</th>\n",
       "      <th>Exp (Months)</th>\n",
       "      <th>CTC</th>\n",
       "    </tr>\n",
       "  </thead>\n",
       "  <tbody>\n",
       "    <tr>\n",
       "      <th>0</th>\n",
       "      <td>1</td>\n",
       "      <td>Tier 1</td>\n",
       "      <td>Manager</td>\n",
       "      <td>Non-Metro</td>\n",
       "      <td>55,523.00</td>\n",
       "      <td>3</td>\n",
       "      <td>66</td>\n",
       "      <td>19</td>\n",
       "      <td>71,406.58</td>\n",
       "    </tr>\n",
       "    <tr>\n",
       "      <th>1</th>\n",
       "      <td>2</td>\n",
       "      <td>Tier 2</td>\n",
       "      <td>Executive</td>\n",
       "      <td>Metro</td>\n",
       "      <td>57,081.00</td>\n",
       "      <td>1</td>\n",
       "      <td>84</td>\n",
       "      <td>18</td>\n",
       "      <td>68,005.87</td>\n",
       "    </tr>\n",
       "    <tr>\n",
       "      <th>2</th>\n",
       "      <td>3</td>\n",
       "      <td>Tier 2</td>\n",
       "      <td>Executive</td>\n",
       "      <td>Metro</td>\n",
       "      <td>60,347.00</td>\n",
       "      <td>2</td>\n",
       "      <td>52</td>\n",
       "      <td>28</td>\n",
       "      <td>76,764.02</td>\n",
       "    </tr>\n",
       "    <tr>\n",
       "      <th>3</th>\n",
       "      <td>4</td>\n",
       "      <td>Tier 3</td>\n",
       "      <td>Executive</td>\n",
       "      <td>Metro</td>\n",
       "      <td>49,010.00</td>\n",
       "      <td>2</td>\n",
       "      <td>81</td>\n",
       "      <td>33</td>\n",
       "      <td>82,092.39</td>\n",
       "    </tr>\n",
       "    <tr>\n",
       "      <th>4</th>\n",
       "      <td>5</td>\n",
       "      <td>Tier 3</td>\n",
       "      <td>Executive</td>\n",
       "      <td>Metro</td>\n",
       "      <td>57,879.00</td>\n",
       "      <td>4</td>\n",
       "      <td>74</td>\n",
       "      <td>32</td>\n",
       "      <td>73,878.10</td>\n",
       "    </tr>\n",
       "  </tbody>\n",
       "</table>\n",
       "</div>"
      ],
      "text/plain": [
       "   S.No. College       Role  City type  Previous CTC  Previous job changes  \\\n",
       "0      1  Tier 1    Manager  Non-Metro    55,523.00                      3   \n",
       "1      2  Tier 2  Executive      Metro    57,081.00                      1   \n",
       "2      3  Tier 2  Executive      Metro    60,347.00                      2   \n",
       "3      4  Tier 3  Executive      Metro    49,010.00                      2   \n",
       "4      5  Tier 3  Executive      Metro    57,879.00                      4   \n",
       "\n",
       "   Graduation marks  Exp (Months)           CTC  \n",
       "0                66            19    71,406.58   \n",
       "1                84            18    68,005.87   \n",
       "2                52            28    76,764.02   \n",
       "3                81            33    82,092.39   \n",
       "4                74            32    73,878.10   "
      ]
     },
     "execution_count": 6,
     "metadata": {},
     "output_type": "execute_result"
    }
   ],
   "source": [
    "dataset.head()"
   ]
  },
  {
   "cell_type": "code",
   "execution_count": 7,
   "id": "1ea6e51d",
   "metadata": {},
   "outputs": [
    {
     "data": {
      "text/plain": [
       "(1338, 9)"
      ]
     },
     "execution_count": 7,
     "metadata": {},
     "output_type": "execute_result"
    }
   ],
   "source": [
    "dataset.shape"
   ]
  },
  {
   "cell_type": "code",
   "execution_count": 8,
   "id": "a21a84e2",
   "metadata": {},
   "outputs": [
    {
     "data": {
      "text/html": [
       "<div>\n",
       "<style scoped>\n",
       "    .dataframe tbody tr th:only-of-type {\n",
       "        vertical-align: middle;\n",
       "    }\n",
       "\n",
       "    .dataframe tbody tr th {\n",
       "        vertical-align: top;\n",
       "    }\n",
       "\n",
       "    .dataframe thead th {\n",
       "        text-align: right;\n",
       "    }\n",
       "</style>\n",
       "<table border=\"1\" class=\"dataframe\">\n",
       "  <thead>\n",
       "    <tr style=\"text-align: right;\">\n",
       "      <th></th>\n",
       "      <th>S.No.</th>\n",
       "      <th>College</th>\n",
       "      <th>Role</th>\n",
       "      <th>City type</th>\n",
       "      <th>Previous CTC</th>\n",
       "      <th>Previous job changes</th>\n",
       "      <th>Graduation marks</th>\n",
       "      <th>Exp (Months)</th>\n",
       "      <th>CTC</th>\n",
       "    </tr>\n",
       "  </thead>\n",
       "  <tbody>\n",
       "    <tr>\n",
       "      <th>1333</th>\n",
       "      <td>1334</td>\n",
       "      <td>Tier 3</td>\n",
       "      <td>Executive</td>\n",
       "      <td>Metro</td>\n",
       "      <td>59,661.00</td>\n",
       "      <td>4</td>\n",
       "      <td>68</td>\n",
       "      <td>50</td>\n",
       "      <td>69,712.40</td>\n",
       "    </tr>\n",
       "    <tr>\n",
       "      <th>1334</th>\n",
       "      <td>1335</td>\n",
       "      <td>Tier 1</td>\n",
       "      <td>Executive</td>\n",
       "      <td>Non-Metro</td>\n",
       "      <td>53,714.00</td>\n",
       "      <td>1</td>\n",
       "      <td>67</td>\n",
       "      <td>18</td>\n",
       "      <td>69,298.75</td>\n",
       "    </tr>\n",
       "    <tr>\n",
       "      <th>1335</th>\n",
       "      <td>1336</td>\n",
       "      <td>Tier 2</td>\n",
       "      <td>Executive</td>\n",
       "      <td>Non-Metro</td>\n",
       "      <td>61,957.00</td>\n",
       "      <td>1</td>\n",
       "      <td>47</td>\n",
       "      <td>18</td>\n",
       "      <td>66,397.77</td>\n",
       "    </tr>\n",
       "    <tr>\n",
       "      <th>1336</th>\n",
       "      <td>1337</td>\n",
       "      <td>Tier 1</td>\n",
       "      <td>Executive</td>\n",
       "      <td>Non-Metro</td>\n",
       "      <td>53,203.00</td>\n",
       "      <td>3</td>\n",
       "      <td>69</td>\n",
       "      <td>21</td>\n",
       "      <td>64,044.38</td>\n",
       "    </tr>\n",
       "    <tr>\n",
       "      <th>1337</th>\n",
       "      <td>1338</td>\n",
       "      <td>Tier 3</td>\n",
       "      <td>Manager</td>\n",
       "      <td>Non-Metro</td>\n",
       "      <td>51,820.00</td>\n",
       "      <td>1</td>\n",
       "      <td>47</td>\n",
       "      <td>61</td>\n",
       "      <td>83,346.06</td>\n",
       "    </tr>\n",
       "  </tbody>\n",
       "</table>\n",
       "</div>"
      ],
      "text/plain": [
       "      S.No. College       Role  City type  Previous CTC  Previous job changes  \\\n",
       "1333   1334  Tier 3  Executive      Metro    59,661.00                      4   \n",
       "1334   1335  Tier 1  Executive  Non-Metro    53,714.00                      1   \n",
       "1335   1336  Tier 2  Executive  Non-Metro    61,957.00                      1   \n",
       "1336   1337  Tier 1  Executive  Non-Metro    53,203.00                      3   \n",
       "1337   1338  Tier 3    Manager  Non-Metro    51,820.00                      1   \n",
       "\n",
       "      Graduation marks  Exp (Months)           CTC  \n",
       "1333                68            50    69,712.40   \n",
       "1334                67            18    69,298.75   \n",
       "1335                47            18    66,397.77   \n",
       "1336                69            21    64,044.38   \n",
       "1337                47            61    83,346.06   "
      ]
     },
     "execution_count": 8,
     "metadata": {},
     "output_type": "execute_result"
    }
   ],
   "source": [
    "dataset.tail()"
   ]
  },
  {
   "cell_type": "markdown",
   "id": "77a152fe",
   "metadata": {},
   "source": [
    "###### Inference:"
   ]
  },
  {
   "cell_type": "markdown",
   "id": "19f0f7ff",
   "metadata": {},
   "source": [
    "- The given dataset has 1338 rows and 9 columns\n",
    "- For regression analysis, we will consider numeric values\n",
    "- There are 4 features which are of integer data type namely S.No.,Previous job changes,Graduation marks,Exp (Months)\n",
    "- The CTC feature is of object datatype"
   ]
  },
  {
   "cell_type": "code",
   "execution_count": null,
   "id": "ff5c3bf1",
   "metadata": {},
   "outputs": [],
   "source": [
    "#dataset['CTC'].astype(str).astype(int)\n",
    "#raises error because of conversion from comma seperated values to pure integer\n",
    "#eg: 70,000  ->  70000"
   ]
  },
  {
   "cell_type": "code",
   "execution_count": 9,
   "id": "33a43d09",
   "metadata": {
    "scrolled": true
   },
   "outputs": [
    {
     "name": "stdout",
     "output_type": "stream",
     "text": [
      "<class 'pandas.core.frame.DataFrame'>\n",
      "RangeIndex: 1338 entries, 0 to 1337\n",
      "Data columns (total 9 columns):\n",
      " #   Column                Non-Null Count  Dtype \n",
      "---  ------                --------------  ----- \n",
      " 0   S.No.                 1338 non-null   int64 \n",
      " 1   College               1338 non-null   object\n",
      " 2   Role                  1338 non-null   object\n",
      " 3   City type             1338 non-null   object\n",
      " 4   Previous CTC          1338 non-null   object\n",
      " 5   Previous job changes  1338 non-null   int64 \n",
      " 6   Graduation marks      1338 non-null   int64 \n",
      " 7   Exp (Months)          1338 non-null   int64 \n",
      " 8   CTC                   1338 non-null   object\n",
      "dtypes: int64(4), object(5)\n",
      "memory usage: 94.2+ KB\n"
     ]
    }
   ],
   "source": [
    "# dataset['new']=dataset['CTC'].replace(',','')\n",
    "dataset.info()"
   ]
  },
  {
   "cell_type": "code",
   "execution_count": 10,
   "id": "2374358f",
   "metadata": {},
   "outputs": [],
   "source": [
    "dataset['CTC']=dataset.CTC.str.replace(',','').astype(float)"
   ]
  },
  {
   "cell_type": "code",
   "execution_count": 11,
   "id": "7e9a2f0b",
   "metadata": {},
   "outputs": [
    {
     "name": "stdout",
     "output_type": "stream",
     "text": [
      "<class 'pandas.core.frame.DataFrame'>\n",
      "RangeIndex: 1338 entries, 0 to 1337\n",
      "Data columns (total 9 columns):\n",
      " #   Column                Non-Null Count  Dtype  \n",
      "---  ------                --------------  -----  \n",
      " 0   S.No.                 1338 non-null   int64  \n",
      " 1   College               1338 non-null   object \n",
      " 2   Role                  1338 non-null   object \n",
      " 3   City type             1338 non-null   object \n",
      " 4   Previous CTC          1338 non-null   object \n",
      " 5   Previous job changes  1338 non-null   int64  \n",
      " 6   Graduation marks      1338 non-null   int64  \n",
      " 7   Exp (Months)          1338 non-null   int64  \n",
      " 8   CTC                   1338 non-null   float64\n",
      "dtypes: float64(1), int64(4), object(4)\n",
      "memory usage: 94.2+ KB\n"
     ]
    }
   ],
   "source": [
    "dataset.info()"
   ]
  },
  {
   "cell_type": "code",
   "execution_count": 12,
   "id": "29d87fb7",
   "metadata": {},
   "outputs": [
    {
     "data": {
      "text/html": [
       "<div>\n",
       "<style scoped>\n",
       "    .dataframe tbody tr th:only-of-type {\n",
       "        vertical-align: middle;\n",
       "    }\n",
       "\n",
       "    .dataframe tbody tr th {\n",
       "        vertical-align: top;\n",
       "    }\n",
       "\n",
       "    .dataframe thead th {\n",
       "        text-align: right;\n",
       "    }\n",
       "</style>\n",
       "<table border=\"1\" class=\"dataframe\">\n",
       "  <thead>\n",
       "    <tr style=\"text-align: right;\">\n",
       "      <th></th>\n",
       "      <th>S.No.</th>\n",
       "      <th>College</th>\n",
       "      <th>Role</th>\n",
       "      <th>City type</th>\n",
       "      <th>Previous CTC</th>\n",
       "      <th>Previous job changes</th>\n",
       "      <th>Graduation marks</th>\n",
       "      <th>Exp (Months)</th>\n",
       "      <th>CTC</th>\n",
       "    </tr>\n",
       "  </thead>\n",
       "  <tbody>\n",
       "    <tr>\n",
       "      <th>0</th>\n",
       "      <td>1</td>\n",
       "      <td>Tier 1</td>\n",
       "      <td>Manager</td>\n",
       "      <td>Non-Metro</td>\n",
       "      <td>55,523.00</td>\n",
       "      <td>3</td>\n",
       "      <td>66</td>\n",
       "      <td>19</td>\n",
       "      <td>71406.58</td>\n",
       "    </tr>\n",
       "    <tr>\n",
       "      <th>1</th>\n",
       "      <td>2</td>\n",
       "      <td>Tier 2</td>\n",
       "      <td>Executive</td>\n",
       "      <td>Metro</td>\n",
       "      <td>57,081.00</td>\n",
       "      <td>1</td>\n",
       "      <td>84</td>\n",
       "      <td>18</td>\n",
       "      <td>68005.87</td>\n",
       "    </tr>\n",
       "    <tr>\n",
       "      <th>2</th>\n",
       "      <td>3</td>\n",
       "      <td>Tier 2</td>\n",
       "      <td>Executive</td>\n",
       "      <td>Metro</td>\n",
       "      <td>60,347.00</td>\n",
       "      <td>2</td>\n",
       "      <td>52</td>\n",
       "      <td>28</td>\n",
       "      <td>76764.02</td>\n",
       "    </tr>\n",
       "    <tr>\n",
       "      <th>3</th>\n",
       "      <td>4</td>\n",
       "      <td>Tier 3</td>\n",
       "      <td>Executive</td>\n",
       "      <td>Metro</td>\n",
       "      <td>49,010.00</td>\n",
       "      <td>2</td>\n",
       "      <td>81</td>\n",
       "      <td>33</td>\n",
       "      <td>82092.39</td>\n",
       "    </tr>\n",
       "    <tr>\n",
       "      <th>4</th>\n",
       "      <td>5</td>\n",
       "      <td>Tier 3</td>\n",
       "      <td>Executive</td>\n",
       "      <td>Metro</td>\n",
       "      <td>57,879.00</td>\n",
       "      <td>4</td>\n",
       "      <td>74</td>\n",
       "      <td>32</td>\n",
       "      <td>73878.10</td>\n",
       "    </tr>\n",
       "  </tbody>\n",
       "</table>\n",
       "</div>"
      ],
      "text/plain": [
       "   S.No. College       Role  City type  Previous CTC  Previous job changes  \\\n",
       "0      1  Tier 1    Manager  Non-Metro    55,523.00                      3   \n",
       "1      2  Tier 2  Executive      Metro    57,081.00                      1   \n",
       "2      3  Tier 2  Executive      Metro    60,347.00                      2   \n",
       "3      4  Tier 3  Executive      Metro    49,010.00                      2   \n",
       "4      5  Tier 3  Executive      Metro    57,879.00                      4   \n",
       "\n",
       "   Graduation marks  Exp (Months)       CTC  \n",
       "0                66            19  71406.58  \n",
       "1                84            18  68005.87  \n",
       "2                52            28  76764.02  \n",
       "3                81            33  82092.39  \n",
       "4                74            32  73878.10  "
      ]
     },
     "execution_count": 12,
     "metadata": {},
     "output_type": "execute_result"
    }
   ],
   "source": [
    "dataset.head()"
   ]
  },
  {
   "cell_type": "markdown",
   "id": "0c8edb9f",
   "metadata": {},
   "source": [
    "Deleting the useless columns which are created as an experiment"
   ]
  },
  {
   "cell_type": "code",
   "execution_count": null,
   "id": "d0a8d7b7",
   "metadata": {
    "scrolled": true
   },
   "outputs": [],
   "source": [
    "del dataset['newCTC']\n",
    "del dataset['new']\n",
    "#this cell may raise error"
   ]
  },
  {
   "cell_type": "code",
   "execution_count": 13,
   "id": "123a9dd6",
   "metadata": {},
   "outputs": [
    {
     "data": {
      "text/html": [
       "<div>\n",
       "<style scoped>\n",
       "    .dataframe tbody tr th:only-of-type {\n",
       "        vertical-align: middle;\n",
       "    }\n",
       "\n",
       "    .dataframe tbody tr th {\n",
       "        vertical-align: top;\n",
       "    }\n",
       "\n",
       "    .dataframe thead th {\n",
       "        text-align: right;\n",
       "    }\n",
       "</style>\n",
       "<table border=\"1\" class=\"dataframe\">\n",
       "  <thead>\n",
       "    <tr style=\"text-align: right;\">\n",
       "      <th></th>\n",
       "      <th>S.No.</th>\n",
       "      <th>College</th>\n",
       "      <th>Role</th>\n",
       "      <th>City type</th>\n",
       "      <th>Previous CTC</th>\n",
       "      <th>Previous job changes</th>\n",
       "      <th>Graduation marks</th>\n",
       "      <th>Exp (Months)</th>\n",
       "      <th>CTC</th>\n",
       "    </tr>\n",
       "  </thead>\n",
       "  <tbody>\n",
       "    <tr>\n",
       "      <th>0</th>\n",
       "      <td>1</td>\n",
       "      <td>Tier 1</td>\n",
       "      <td>Manager</td>\n",
       "      <td>Non-Metro</td>\n",
       "      <td>55,523.00</td>\n",
       "      <td>3</td>\n",
       "      <td>66</td>\n",
       "      <td>19</td>\n",
       "      <td>71406.58</td>\n",
       "    </tr>\n",
       "    <tr>\n",
       "      <th>1</th>\n",
       "      <td>2</td>\n",
       "      <td>Tier 2</td>\n",
       "      <td>Executive</td>\n",
       "      <td>Metro</td>\n",
       "      <td>57,081.00</td>\n",
       "      <td>1</td>\n",
       "      <td>84</td>\n",
       "      <td>18</td>\n",
       "      <td>68005.87</td>\n",
       "    </tr>\n",
       "    <tr>\n",
       "      <th>2</th>\n",
       "      <td>3</td>\n",
       "      <td>Tier 2</td>\n",
       "      <td>Executive</td>\n",
       "      <td>Metro</td>\n",
       "      <td>60,347.00</td>\n",
       "      <td>2</td>\n",
       "      <td>52</td>\n",
       "      <td>28</td>\n",
       "      <td>76764.02</td>\n",
       "    </tr>\n",
       "    <tr>\n",
       "      <th>3</th>\n",
       "      <td>4</td>\n",
       "      <td>Tier 3</td>\n",
       "      <td>Executive</td>\n",
       "      <td>Metro</td>\n",
       "      <td>49,010.00</td>\n",
       "      <td>2</td>\n",
       "      <td>81</td>\n",
       "      <td>33</td>\n",
       "      <td>82092.39</td>\n",
       "    </tr>\n",
       "    <tr>\n",
       "      <th>4</th>\n",
       "      <td>5</td>\n",
       "      <td>Tier 3</td>\n",
       "      <td>Executive</td>\n",
       "      <td>Metro</td>\n",
       "      <td>57,879.00</td>\n",
       "      <td>4</td>\n",
       "      <td>74</td>\n",
       "      <td>32</td>\n",
       "      <td>73878.10</td>\n",
       "    </tr>\n",
       "  </tbody>\n",
       "</table>\n",
       "</div>"
      ],
      "text/plain": [
       "   S.No. College       Role  City type  Previous CTC  Previous job changes  \\\n",
       "0      1  Tier 1    Manager  Non-Metro    55,523.00                      3   \n",
       "1      2  Tier 2  Executive      Metro    57,081.00                      1   \n",
       "2      3  Tier 2  Executive      Metro    60,347.00                      2   \n",
       "3      4  Tier 3  Executive      Metro    49,010.00                      2   \n",
       "4      5  Tier 3  Executive      Metro    57,879.00                      4   \n",
       "\n",
       "   Graduation marks  Exp (Months)       CTC  \n",
       "0                66            19  71406.58  \n",
       "1                84            18  68005.87  \n",
       "2                52            28  76764.02  \n",
       "3                81            33  82092.39  \n",
       "4                74            32  73878.10  "
      ]
     },
     "execution_count": 13,
     "metadata": {},
     "output_type": "execute_result"
    }
   ],
   "source": [
    "dataset.head()"
   ]
  },
  {
   "cell_type": "markdown",
   "id": "e737640a",
   "metadata": {},
   "source": [
    "NOTE: dtypes: float64(1), int64(4), object(4)"
   ]
  },
  {
   "cell_type": "markdown",
   "id": "62754bea",
   "metadata": {},
   "source": [
    "###### Step 4: removing extra spaces from column names "
   ]
  },
  {
   "cell_type": "code",
   "execution_count": 14,
   "id": "1ac54932",
   "metadata": {},
   "outputs": [],
   "source": [
    "dataset.rename(columns = {'City type':'City_type',\n",
    "                          'Previous CTC':'Previous_CTC',\n",
    "                          'Previous job changes':'Previous_job_changes',\n",
    "                          'Graduation marks':'Graduation_marks',\n",
    "                          'Exp (Months)':'Exp_(Months)'}, inplace = True)"
   ]
  },
  {
   "cell_type": "markdown",
   "id": "93892e16",
   "metadata": {},
   "source": [
    "###### Step 5: finding unique values in those columns which hold discrete information"
   ]
  },
  {
   "cell_type": "code",
   "execution_count": 15,
   "id": "64b9d66c",
   "metadata": {},
   "outputs": [
    {
     "data": {
      "text/plain": [
       "array(['Tier 1', 'Tier 2', 'Tier 3'], dtype=object)"
      ]
     },
     "execution_count": 15,
     "metadata": {},
     "output_type": "execute_result"
    }
   ],
   "source": [
    "dataset.College.unique()"
   ]
  },
  {
   "cell_type": "code",
   "execution_count": 16,
   "id": "e7d7eb62",
   "metadata": {},
   "outputs": [
    {
     "data": {
      "text/plain": [
       "array(['Manager', 'Executive'], dtype=object)"
      ]
     },
     "execution_count": 16,
     "metadata": {},
     "output_type": "execute_result"
    }
   ],
   "source": [
    "dataset.Role.unique()"
   ]
  },
  {
   "cell_type": "code",
   "execution_count": 17,
   "id": "d99f33a3",
   "metadata": {},
   "outputs": [
    {
     "data": {
      "text/plain": [
       "array(['Non-Metro', 'Metro'], dtype=object)"
      ]
     },
     "execution_count": 17,
     "metadata": {},
     "output_type": "execute_result"
    }
   ],
   "source": [
    "dataset.City_type.unique()"
   ]
  },
  {
   "cell_type": "markdown",
   "id": "bff5389f",
   "metadata": {},
   "source": [
    "###### Step 6: Checking for Nan values in the dataset"
   ]
  },
  {
   "cell_type": "code",
   "execution_count": 18,
   "id": "df43865e",
   "metadata": {},
   "outputs": [
    {
     "data": {
      "text/plain": [
       "False"
      ]
     },
     "execution_count": 18,
     "metadata": {},
     "output_type": "execute_result"
    }
   ],
   "source": [
    "dataset.isnull().values.any()"
   ]
  },
  {
   "cell_type": "code",
   "execution_count": 19,
   "id": "75b62001",
   "metadata": {},
   "outputs": [
    {
     "data": {
      "text/plain": [
       "S.No.                   0\n",
       "College                 0\n",
       "Role                    0\n",
       "City_type               0\n",
       "Previous_CTC            0\n",
       "Previous_job_changes    0\n",
       "Graduation_marks        0\n",
       "Exp_(Months)            0\n",
       "CTC                     0\n",
       "dtype: int64"
      ]
     },
     "execution_count": 19,
     "metadata": {},
     "output_type": "execute_result"
    }
   ],
   "source": [
    "dataset.isnull().sum()"
   ]
  },
  {
   "cell_type": "markdown",
   "id": "4876fd62",
   "metadata": {},
   "source": [
    "Checking the distribution of categorial features"
   ]
  },
  {
   "cell_type": "code",
   "execution_count": 20,
   "id": "d0a169bf",
   "metadata": {},
   "outputs": [
    {
     "data": {
      "text/plain": [
       "Tier 1    649\n",
       "Tier 2    364\n",
       "Tier 3    325\n",
       "Name: College, dtype: int64"
      ]
     },
     "execution_count": 20,
     "metadata": {},
     "output_type": "execute_result"
    }
   ],
   "source": [
    "dataset.College.value_counts()"
   ]
  },
  {
   "cell_type": "code",
   "execution_count": 21,
   "id": "33e18b00",
   "metadata": {},
   "outputs": [
    {
     "data": {
      "text/plain": [
       "Executive    1064\n",
       "Manager       274\n",
       "Name: Role, dtype: int64"
      ]
     },
     "execution_count": 21,
     "metadata": {},
     "output_type": "execute_result"
    }
   ],
   "source": [
    "dataset.Role.value_counts()"
   ]
  },
  {
   "cell_type": "code",
   "execution_count": 22,
   "id": "3ab44117",
   "metadata": {},
   "outputs": [
    {
     "data": {
      "text/plain": [
       "Metro        676\n",
       "Non-Metro    662\n",
       "Name: City_type, dtype: int64"
      ]
     },
     "execution_count": 22,
     "metadata": {},
     "output_type": "execute_result"
    }
   ],
   "source": [
    "dataset.City_type.value_counts()"
   ]
  },
  {
   "cell_type": "code",
   "execution_count": 23,
   "id": "2fe95495",
   "metadata": {},
   "outputs": [
    {
     "data": {
      "text/plain": [
       "3    348\n",
       "4    344\n",
       "1    333\n",
       "2    313\n",
       "Name: Previous_job_changes, dtype: int64"
      ]
     },
     "execution_count": 23,
     "metadata": {},
     "output_type": "execute_result"
    }
   ],
   "source": [
    "dataset.Previous_job_changes.value_counts()"
   ]
  },
  {
   "cell_type": "code",
   "execution_count": 15,
   "id": "97afe7e3",
   "metadata": {},
   "outputs": [
    {
     "name": "stdout",
     "output_type": "stream",
     "text": [
      "<class 'pandas.core.frame.DataFrame'>\n",
      "RangeIndex: 1338 entries, 0 to 1337\n",
      "Data columns (total 9 columns):\n",
      " #   Column                Non-Null Count  Dtype  \n",
      "---  ------                --------------  -----  \n",
      " 0   S.No.                 1338 non-null   int64  \n",
      " 1   College               1338 non-null   object \n",
      " 2   Role                  1338 non-null   object \n",
      " 3   City_type             1338 non-null   object \n",
      " 4   Previous_CTC          1338 non-null   float64\n",
      " 5   Previous_job_changes  1338 non-null   int64  \n",
      " 6   Graduation_marks      1338 non-null   int64  \n",
      " 7   Exp_(Months)          1338 non-null   int64  \n",
      " 8   CTC                   1338 non-null   float64\n",
      "dtypes: float64(2), int64(4), object(3)\n",
      "memory usage: 94.2+ KB\n"
     ]
    }
   ],
   "source": [
    "dataset['Previous_CTC']=dataset.Previous_CTC.str.replace(',','').astype(float)\n",
    "#since the column name was Previous CTC, the space between the 2 words cause syntax error:\n",
    "#...dataset.Previous CTC.str.replace...\n",
    "#So, after changing the column name, we are implementing this\n",
    "dataset.info()"
   ]
  },
  {
   "cell_type": "markdown",
   "id": "01d62162",
   "metadata": {},
   "source": [
    "###### Step 7: Encoding the Data"
   ]
  },
  {
   "cell_type": "markdown",
   "id": "e23b8be7",
   "metadata": {},
   "source": [
    "The categorial values (as text) should be converted into numerical values"
   ]
  },
  {
   "cell_type": "code",
   "execution_count": 16,
   "id": "a2d59d5e",
   "metadata": {},
   "outputs": [
    {
     "data": {
      "text/html": [
       "<div>\n",
       "<style scoped>\n",
       "    .dataframe tbody tr th:only-of-type {\n",
       "        vertical-align: middle;\n",
       "    }\n",
       "\n",
       "    .dataframe tbody tr th {\n",
       "        vertical-align: top;\n",
       "    }\n",
       "\n",
       "    .dataframe thead th {\n",
       "        text-align: right;\n",
       "    }\n",
       "</style>\n",
       "<table border=\"1\" class=\"dataframe\">\n",
       "  <thead>\n",
       "    <tr style=\"text-align: right;\">\n",
       "      <th></th>\n",
       "      <th>S.No.</th>\n",
       "      <th>College</th>\n",
       "      <th>Role</th>\n",
       "      <th>City_type</th>\n",
       "      <th>Previous_CTC</th>\n",
       "      <th>Previous_job_changes</th>\n",
       "      <th>Graduation_marks</th>\n",
       "      <th>Exp_(Months)</th>\n",
       "      <th>CTC</th>\n",
       "    </tr>\n",
       "  </thead>\n",
       "  <tbody>\n",
       "    <tr>\n",
       "      <th>0</th>\n",
       "      <td>1</td>\n",
       "      <td>Tier 1</td>\n",
       "      <td>Manager</td>\n",
       "      <td>Non-Metro</td>\n",
       "      <td>55523.0</td>\n",
       "      <td>3</td>\n",
       "      <td>66</td>\n",
       "      <td>19</td>\n",
       "      <td>71406.58</td>\n",
       "    </tr>\n",
       "    <tr>\n",
       "      <th>1</th>\n",
       "      <td>2</td>\n",
       "      <td>Tier 2</td>\n",
       "      <td>Executive</td>\n",
       "      <td>Metro</td>\n",
       "      <td>57081.0</td>\n",
       "      <td>1</td>\n",
       "      <td>84</td>\n",
       "      <td>18</td>\n",
       "      <td>68005.87</td>\n",
       "    </tr>\n",
       "    <tr>\n",
       "      <th>2</th>\n",
       "      <td>3</td>\n",
       "      <td>Tier 2</td>\n",
       "      <td>Executive</td>\n",
       "      <td>Metro</td>\n",
       "      <td>60347.0</td>\n",
       "      <td>2</td>\n",
       "      <td>52</td>\n",
       "      <td>28</td>\n",
       "      <td>76764.02</td>\n",
       "    </tr>\n",
       "    <tr>\n",
       "      <th>3</th>\n",
       "      <td>4</td>\n",
       "      <td>Tier 3</td>\n",
       "      <td>Executive</td>\n",
       "      <td>Metro</td>\n",
       "      <td>49010.0</td>\n",
       "      <td>2</td>\n",
       "      <td>81</td>\n",
       "      <td>33</td>\n",
       "      <td>82092.39</td>\n",
       "    </tr>\n",
       "    <tr>\n",
       "      <th>4</th>\n",
       "      <td>5</td>\n",
       "      <td>Tier 3</td>\n",
       "      <td>Executive</td>\n",
       "      <td>Metro</td>\n",
       "      <td>57879.0</td>\n",
       "      <td>4</td>\n",
       "      <td>74</td>\n",
       "      <td>32</td>\n",
       "      <td>73878.10</td>\n",
       "    </tr>\n",
       "  </tbody>\n",
       "</table>\n",
       "</div>"
      ],
      "text/plain": [
       "   S.No. College       Role  City_type  Previous_CTC  Previous_job_changes  \\\n",
       "0      1  Tier 1    Manager  Non-Metro       55523.0                     3   \n",
       "1      2  Tier 2  Executive      Metro       57081.0                     1   \n",
       "2      3  Tier 2  Executive      Metro       60347.0                     2   \n",
       "3      4  Tier 3  Executive      Metro       49010.0                     2   \n",
       "4      5  Tier 3  Executive      Metro       57879.0                     4   \n",
       "\n",
       "   Graduation_marks  Exp_(Months)       CTC  \n",
       "0                66            19  71406.58  \n",
       "1                84            18  68005.87  \n",
       "2                52            28  76764.02  \n",
       "3                81            33  82092.39  \n",
       "4                74            32  73878.10  "
      ]
     },
     "execution_count": 16,
     "metadata": {},
     "output_type": "execute_result"
    }
   ],
   "source": [
    "dataset.head()"
   ]
  },
  {
   "cell_type": "code",
   "execution_count": 17,
   "id": "bc0a0064",
   "metadata": {},
   "outputs": [],
   "source": [
    "dataset.replace({'College':{'Tier 1':1,'Tier 2':2,'Tier 3':3}},inplace=True)\n",
    "dataset.replace({'Role':{'Manager':0,'Executive':1}},inplace=True)\n",
    "dataset.replace({'City_type':{'Metro':0,'Non-Metro':1}},inplace=True)"
   ]
  },
  {
   "cell_type": "code",
   "execution_count": 18,
   "id": "2823acd1",
   "metadata": {},
   "outputs": [
    {
     "data": {
      "text/html": [
       "<div>\n",
       "<style scoped>\n",
       "    .dataframe tbody tr th:only-of-type {\n",
       "        vertical-align: middle;\n",
       "    }\n",
       "\n",
       "    .dataframe tbody tr th {\n",
       "        vertical-align: top;\n",
       "    }\n",
       "\n",
       "    .dataframe thead th {\n",
       "        text-align: right;\n",
       "    }\n",
       "</style>\n",
       "<table border=\"1\" class=\"dataframe\">\n",
       "  <thead>\n",
       "    <tr style=\"text-align: right;\">\n",
       "      <th></th>\n",
       "      <th>S.No.</th>\n",
       "      <th>College</th>\n",
       "      <th>Role</th>\n",
       "      <th>City_type</th>\n",
       "      <th>Previous_CTC</th>\n",
       "      <th>Previous_job_changes</th>\n",
       "      <th>Graduation_marks</th>\n",
       "      <th>Exp_(Months)</th>\n",
       "      <th>CTC</th>\n",
       "    </tr>\n",
       "  </thead>\n",
       "  <tbody>\n",
       "    <tr>\n",
       "      <th>0</th>\n",
       "      <td>1</td>\n",
       "      <td>1</td>\n",
       "      <td>0</td>\n",
       "      <td>1</td>\n",
       "      <td>55523.0</td>\n",
       "      <td>3</td>\n",
       "      <td>66</td>\n",
       "      <td>19</td>\n",
       "      <td>71406.58</td>\n",
       "    </tr>\n",
       "    <tr>\n",
       "      <th>1</th>\n",
       "      <td>2</td>\n",
       "      <td>2</td>\n",
       "      <td>1</td>\n",
       "      <td>0</td>\n",
       "      <td>57081.0</td>\n",
       "      <td>1</td>\n",
       "      <td>84</td>\n",
       "      <td>18</td>\n",
       "      <td>68005.87</td>\n",
       "    </tr>\n",
       "    <tr>\n",
       "      <th>2</th>\n",
       "      <td>3</td>\n",
       "      <td>2</td>\n",
       "      <td>1</td>\n",
       "      <td>0</td>\n",
       "      <td>60347.0</td>\n",
       "      <td>2</td>\n",
       "      <td>52</td>\n",
       "      <td>28</td>\n",
       "      <td>76764.02</td>\n",
       "    </tr>\n",
       "    <tr>\n",
       "      <th>3</th>\n",
       "      <td>4</td>\n",
       "      <td>3</td>\n",
       "      <td>1</td>\n",
       "      <td>0</td>\n",
       "      <td>49010.0</td>\n",
       "      <td>2</td>\n",
       "      <td>81</td>\n",
       "      <td>33</td>\n",
       "      <td>82092.39</td>\n",
       "    </tr>\n",
       "    <tr>\n",
       "      <th>4</th>\n",
       "      <td>5</td>\n",
       "      <td>3</td>\n",
       "      <td>1</td>\n",
       "      <td>0</td>\n",
       "      <td>57879.0</td>\n",
       "      <td>4</td>\n",
       "      <td>74</td>\n",
       "      <td>32</td>\n",
       "      <td>73878.10</td>\n",
       "    </tr>\n",
       "  </tbody>\n",
       "</table>\n",
       "</div>"
      ],
      "text/plain": [
       "   S.No.  College  Role  City_type  Previous_CTC  Previous_job_changes  \\\n",
       "0      1        1     0          1       55523.0                     3   \n",
       "1      2        2     1          0       57081.0                     1   \n",
       "2      3        2     1          0       60347.0                     2   \n",
       "3      4        3     1          0       49010.0                     2   \n",
       "4      5        3     1          0       57879.0                     4   \n",
       "\n",
       "   Graduation_marks  Exp_(Months)       CTC  \n",
       "0                66            19  71406.58  \n",
       "1                84            18  68005.87  \n",
       "2                52            28  76764.02  \n",
       "3                81            33  82092.39  \n",
       "4                74            32  73878.10  "
      ]
     },
     "execution_count": 18,
     "metadata": {},
     "output_type": "execute_result"
    }
   ],
   "source": [
    "dataset.head()"
   ]
  },
  {
   "cell_type": "markdown",
   "id": "d130416a",
   "metadata": {},
   "source": [
    "###### The Dataset is ready for implementing machine learning algorithms"
   ]
  },
  {
   "cell_type": "markdown",
   "id": "42153a2c",
   "metadata": {},
   "source": [
    "Naive Assumptions:\n",
    "- Manager role may have higher CTC than executive role\n",
    "- Tier 1 college candidates may get higher CTC than Tier 3 college candidates\n",
    "- More experienced candidates may get higher CTC than less experienced candidates\n",
    "- Metro cities may offer more CTC than Non Metro cities\n",
    "- Higher Graduation marks may indicate that candidates are worthy for higher CTC\n",
    "- Expected CTC may be higher than Previous CTC"
   ]
  },
  {
   "cell_type": "markdown",
   "id": "758ad42b",
   "metadata": {},
   "source": [
    "###### Step 8: Splitting the data and target"
   ]
  },
  {
   "cell_type": "markdown",
   "id": "c0a544b6",
   "metadata": {},
   "source": [
    "We create two variables X and Y<br>\n",
    "X stores the trainning data, Y stores the Target data"
   ]
  },
  {
   "cell_type": "code",
   "execution_count": 19,
   "id": "f50a354d",
   "metadata": {},
   "outputs": [],
   "source": [
    "X=dataset.drop(['S.No.','CTC'],axis=1)\n",
    "#axis=1 means vertical data\n",
    "#axis=0 means horizontal data\n",
    "Y=dataset['CTC']"
   ]
  },
  {
   "cell_type": "markdown",
   "id": "7a7140bc",
   "metadata": {},
   "source": [
    "###### Step 9: Spliting for training and testing"
   ]
  },
  {
   "cell_type": "code",
   "execution_count": 20,
   "id": "f42a1190",
   "metadata": {},
   "outputs": [],
   "source": [
    "X_train,X_test,Y_train,Y_test=train_test_split(X,Y,test_size=0.1)\n",
    "#10% is used for testing, 90% of the data is used for training."
   ]
  },
  {
   "cell_type": "markdown",
   "id": "805503ac",
   "metadata": {},
   "source": [
    "###### Step 10: Training the Model"
   ]
  },
  {
   "cell_type": "markdown",
   "id": "1fef9766",
   "metadata": {},
   "source": [
    "We are told to use Linear Regression Algorithm"
   ]
  },
  {
   "cell_type": "code",
   "execution_count": 21,
   "id": "fbcb3eed",
   "metadata": {},
   "outputs": [
    {
     "data": {
      "text/plain": [
       "LinearRegression()"
      ]
     },
     "execution_count": 21,
     "metadata": {},
     "output_type": "execute_result"
    }
   ],
   "source": [
    "lg_model=LinearRegression()\n",
    "lg_model.fit(X_train,Y_train)"
   ]
  },
  {
   "cell_type": "markdown",
   "id": "0bd5435b",
   "metadata": {},
   "source": [
    "###### Step 11: Model Evaluation"
   ]
  },
  {
   "cell_type": "code",
   "execution_count": 22,
   "id": "428270e5",
   "metadata": {},
   "outputs": [],
   "source": [
    "Y_train_pred=lg_model.predict(X_train)"
   ]
  },
  {
   "cell_type": "markdown",
   "id": "102108ed",
   "metadata": {},
   "source": [
    "Mean Squared Error:"
   ]
  },
  {
   "cell_type": "code",
   "execution_count": 23,
   "id": "257b4b36",
   "metadata": {},
   "outputs": [
    {
     "data": {
      "text/plain": [
       "63346014.58166719"
      ]
     },
     "execution_count": 23,
     "metadata": {},
     "output_type": "execute_result"
    }
   ],
   "source": [
    "mean_squared_error(Y_train,Y_train_pred)\n",
    "#or\n",
    "np.square(Y_train-Y_train_pred).mean()"
   ]
  },
  {
   "cell_type": "code",
   "execution_count": 24,
   "id": "d114e26f",
   "metadata": {},
   "outputs": [
    {
     "data": {
      "image/png": "[encoded data removed]",
      "text/plain": [
       "<Figure size 864x432 with 1 Axes>"
      ]
     },
     "metadata": {
      "needs_background": "light"
     },
     "output_type": "display_data"
    }
   ],
   "source": [
    "plt.figure(figsize=(12,6))\n",
    "plt.scatter(Y_train,Y_train_pred,color='orange',alpha=0.5)\n",
    "plt.xlabel(\"Actual CTC\")\n",
    "plt.ylabel(\"Predictied CTC\")\n",
    "plt.title(\"Predicted CTC vs Actual CTC on training dataset\")\n",
    "p1 = max(max(Y_train), max(Y_train_pred))\n",
    "p2 = min(min(Y_train), min(Y_train_pred))\n",
    "plt.plot([p1, p2], [p1, p2], color='black')\n",
    "plt.show()"
   ]
  },
  {
   "cell_type": "code",
   "execution_count": 107,
   "id": "741c6e37",
   "metadata": {},
   "outputs": [],
   "source": [
    "#Y_test_pred=lg_model.predict(X_test)"
   ]
  },
  {
   "cell_type": "markdown",
   "id": "dda5fc30",
   "metadata": {},
   "source": [
    "###### Step 12: Linear Regression Line"
   ]
  },
  {
   "cell_type": "code",
   "execution_count": 25,
   "id": "3a80229c",
   "metadata": {},
   "outputs": [
    {
     "data": {
      "text/plain": [
       "array([-2.71260875e+03, -1.93318524e+04, -4.10930092e+03,  3.99592083e-01,\n",
       "       -1.51264493e+01, -9.92001654e+00,  2.61877117e+02])"
      ]
     },
     "execution_count": 25,
     "metadata": {},
     "output_type": "execute_result"
    }
   ],
   "source": [
    "lg_model.coef_"
   ]
  },
  {
   "cell_type": "code",
   "execution_count": 26,
   "id": "606c8aed",
   "metadata": {},
   "outputs": [
    {
     "data": {
      "text/plain": [
       "65892.83550222967"
      ]
     },
     "execution_count": 26,
     "metadata": {},
     "output_type": "execute_result"
    }
   ],
   "source": [
    "lg_model.intercept_"
   ]
  },
  {
   "cell_type": "code",
   "execution_count": 27,
   "id": "61dfbc8c",
   "metadata": {},
   "outputs": [
    {
     "data": {
      "text/html": [
       "<div>\n",
       "<style scoped>\n",
       "    .dataframe tbody tr th:only-of-type {\n",
       "        vertical-align: middle;\n",
       "    }\n",
       "\n",
       "    .dataframe tbody tr th {\n",
       "        vertical-align: top;\n",
       "    }\n",
       "\n",
       "    .dataframe thead th {\n",
       "        text-align: right;\n",
       "    }\n",
       "</style>\n",
       "<table border=\"1\" class=\"dataframe\">\n",
       "  <thead>\n",
       "    <tr style=\"text-align: right;\">\n",
       "      <th></th>\n",
       "      <th>Actual_CTC</th>\n",
       "      <th>Predicted_CTC</th>\n",
       "    </tr>\n",
       "  </thead>\n",
       "  <tbody>\n",
       "    <tr>\n",
       "      <th>378</th>\n",
       "      <td>75104.22</td>\n",
       "      <td>71841.111030</td>\n",
       "    </tr>\n",
       "    <tr>\n",
       "      <th>155</th>\n",
       "      <td>76619.74</td>\n",
       "      <td>75483.900797</td>\n",
       "    </tr>\n",
       "    <tr>\n",
       "      <th>722</th>\n",
       "      <td>77770.17</td>\n",
       "      <td>83821.894210</td>\n",
       "    </tr>\n",
       "    <tr>\n",
       "      <th>1118</th>\n",
       "      <td>94368.83</td>\n",
       "      <td>94797.395309</td>\n",
       "    </tr>\n",
       "    <tr>\n",
       "      <th>321</th>\n",
       "      <td>79572.91</td>\n",
       "      <td>68236.546329</td>\n",
       "    </tr>\n",
       "    <tr>\n",
       "      <th>...</th>\n",
       "      <td>...</td>\n",
       "      <td>...</td>\n",
       "    </tr>\n",
       "    <tr>\n",
       "      <th>950</th>\n",
       "      <td>74893.91</td>\n",
       "      <td>75482.216034</td>\n",
       "    </tr>\n",
       "    <tr>\n",
       "      <th>907</th>\n",
       "      <td>70973.39</td>\n",
       "      <td>70778.102706</td>\n",
       "    </tr>\n",
       "    <tr>\n",
       "      <th>986</th>\n",
       "      <td>66304.02</td>\n",
       "      <td>69467.185740</td>\n",
       "    </tr>\n",
       "    <tr>\n",
       "      <th>20</th>\n",
       "      <td>73487.13</td>\n",
       "      <td>78829.754727</td>\n",
       "    </tr>\n",
       "    <tr>\n",
       "      <th>700</th>\n",
       "      <td>62927.79</td>\n",
       "      <td>66199.131976</td>\n",
       "    </tr>\n",
       "  </tbody>\n",
       "</table>\n",
       "<p>1204 rows × 2 columns</p>\n",
       "</div>"
      ],
      "text/plain": [
       "      Actual_CTC  Predicted_CTC\n",
       "378     75104.22   71841.111030\n",
       "155     76619.74   75483.900797\n",
       "722     77770.17   83821.894210\n",
       "1118    94368.83   94797.395309\n",
       "321     79572.91   68236.546329\n",
       "...          ...            ...\n",
       "950     74893.91   75482.216034\n",
       "907     70973.39   70778.102706\n",
       "986     66304.02   69467.185740\n",
       "20      73487.13   78829.754727\n",
       "700     62927.79   66199.131976\n",
       "\n",
       "[1204 rows x 2 columns]"
      ]
     },
     "execution_count": 27,
     "metadata": {},
     "output_type": "execute_result"
    }
   ],
   "source": [
    "new = pd.DataFrame({'Actual_CTC': Y_train, 'Predicted_CTC': Y_train_pred})\n",
    "new\n",
    "#new has 1204 rows since train data is only 90% of the original, the rest 10% is for testing"
   ]
  },
  {
   "cell_type": "markdown",
   "id": "f981b526",
   "metadata": {},
   "source": [
    "Equation of Line: Predicted CTC vs Actual CTC<br>\n",
    "    y=mx+c<br>\n",
    "    y=2.587629x + 65678.3627916"
   ]
  },
  {
   "cell_type": "code",
   "execution_count": 36,
   "id": "5a9f02fb",
   "metadata": {},
   "outputs": [
    {
     "data": {
      "text/plain": [
       "378     95.655226\n",
       "155     98.517563\n",
       "722     92.218451\n",
       "1118    99.545861\n",
       "321     85.753489\n",
       "          ...    \n",
       "950     99.214481\n",
       "907     99.724844\n",
       "986     95.229300\n",
       "20      92.729850\n",
       "700     94.801435\n",
       "Length: 1204, dtype: float64"
      ]
     },
     "execution_count": 36,
     "metadata": {},
     "output_type": "execute_result"
    }
   ],
   "source": [
    "accuracy=100-abs((new['Predicted_CTC']-new['Actual_CTC'])*100/new['Actual_CTC'])\n",
    "#accuracy=(numerator/new['Actual_CTC'])*100\n",
    "#accuracy\n",
    "accuracy"
   ]
  },
  {
   "cell_type": "code",
   "execution_count": 37,
   "id": "9088f8ab",
   "metadata": {},
   "outputs": [
    {
     "data": {
      "text/plain": [
       "count    1204.000000\n",
       "mean       91.783861\n",
       "std         6.202065\n",
       "min        61.416422\n",
       "25%        88.748060\n",
       "50%        93.099073\n",
       "75%        96.530036\n",
       "max        99.988826\n",
       "dtype: float64"
      ]
     },
     "execution_count": 37,
     "metadata": {},
     "output_type": "execute_result"
    }
   ],
   "source": [
    "accuracy.describe()"
   ]
  },
  {
   "cell_type": "markdown",
   "id": "72302066",
   "metadata": {},
   "source": [
    "###### The Accuracy of the model is 91.783%"
   ]
  },
  {
   "cell_type": "code",
   "execution_count": null,
   "id": "0a675cec",
   "metadata": {},
   "outputs": [],
   "source": []
  }
 ],
 "metadata": {
  "kernelspec": {
   "display_name": "Python 3 (ipykernel)",
   "language": "python",
   "name": "python3"
  },
  "language_info": {
   "codemirror_mode": {
    "name": "ipython",
    "version": 3
   },
   "file_extension": ".py",
   "mimetype": "text/x-python",
   "name": "python",
   "nbconvert_exporter": "python",
   "pygments_lexer": "ipython3",
   "version": "3.9.7"
  }
 },
 "nbformat": 4,
 "nbformat_minor": 5
}
